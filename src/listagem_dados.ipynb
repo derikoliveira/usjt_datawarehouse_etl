{
 "cells": [
  {
   "cell_type": "markdown",
   "metadata": {},
   "source": [
    "# Proposta"
   ]
  },
  {
   "cell_type": "markdown",
   "metadata": {
    "collapsed": true
   },
   "source": [
    "Um notebook que mostre, via dataframes, as listagens de dados da tabela fato e dos agregados. O notebook deve estar previamente executado de modo que se possa ver o conteúdo dos dataframes."
   ]
  },
  {
   "cell_type": "markdown",
   "metadata": {},
   "source": [
    "# Model Fato"
   ]
  },
  {
   "cell_type": "markdown",
   "metadata": {},
   "source": [
    "![fato](../banco/fato.png)"
   ]
  },
  {
   "cell_type": "markdown",
   "metadata": {},
   "source": [
    "# Model Agregados"
   ]
  },
  {
   "cell_type": "markdown",
   "metadata": {},
   "source": [
    "![agregados](../banco/agregado.png)"
   ]
  },
  {
   "cell_type": "markdown",
   "metadata": {},
   "source": [
    "# Implementação"
   ]
  },
  {
   "cell_type": "code",
   "execution_count": 18,
   "metadata": {},
   "outputs": [],
   "source": [
    "from conexao_mysql import MySQL\n",
    "import pandas as pd"
   ]
  },
  {
   "cell_type": "code",
   "execution_count": 2,
   "metadata": {
    "scrolled": true
   },
   "outputs": [
    {
     "name": "stdout",
     "output_type": "stream",
     "text": [
      "Connection to MySQL DB successful\n"
     ]
    }
   ],
   "source": [
    "mysql_obj = MySQL('localhost', 'alunos', 'alunos', 'atividade02')"
   ]
  },
  {
   "cell_type": "code",
   "execution_count": 22,
   "metadata": {},
   "outputs": [],
   "source": [
    "def criar_fato_df(mysql_obj):\n",
    "    select = \"\"\"SELECT * FROM FATO_ORCAMENTO\"\"\"\n",
    "    descricao, fatos_list = mysql_obj.execute_read_query_with_description(select)\n",
    "    nomes_colunas = [d[0] for d in descricao]\n",
    "    fato = pd.DataFrame.from_records(fatos_list, columns=nomes_colunas)\n",
    "    return fato"
   ]
  },
  {
   "cell_type": "code",
   "execution_count": 23,
   "metadata": {},
   "outputs": [],
   "source": [
    "fato = criar_fato_df(mysql_obj)"
   ]
  },
  {
   "cell_type": "code",
   "execution_count": 24,
   "metadata": {
    "scrolled": true
   },
   "outputs": [
    {
     "data": {
      "text/html": [
       "<div>\n",
       "<style scoped>\n",
       "    .dataframe tbody tr th:only-of-type {\n",
       "        vertical-align: middle;\n",
       "    }\n",
       "\n",
       "    .dataframe tbody tr th {\n",
       "        vertical-align: top;\n",
       "    }\n",
       "\n",
       "    .dataframe thead th {\n",
       "        text-align: right;\n",
       "    }\n",
       "</style>\n",
       "<table border=\"1\" class=\"dataframe\">\n",
       "  <thead>\n",
       "    <tr style=\"text-align: right;\">\n",
       "      <th></th>\n",
       "      <th>valor_orcado</th>\n",
       "      <th>valor_liquidado</th>\n",
       "      <th>TEMPO_id</th>\n",
       "      <th>ACAO_cod</th>\n",
       "      <th>SUBFUNCAO_cod</th>\n",
       "      <th>UNIDADE_ORCAMENTARIA_cod</th>\n",
       "    </tr>\n",
       "  </thead>\n",
       "  <tbody>\n",
       "    <tr>\n",
       "      <th>0</th>\n",
       "      <td>0.000000e+00</td>\n",
       "      <td>0.0</td>\n",
       "      <td>1</td>\n",
       "      <td>-1</td>\n",
       "      <td>-1</td>\n",
       "      <td>20101</td>\n",
       "    </tr>\n",
       "    <tr>\n",
       "      <th>1</th>\n",
       "      <td>0.000000e+00</td>\n",
       "      <td>0.0</td>\n",
       "      <td>1</td>\n",
       "      <td>0005</td>\n",
       "      <td>846</td>\n",
       "      <td>20201</td>\n",
       "    </tr>\n",
       "    <tr>\n",
       "      <th>2</th>\n",
       "      <td>5.319970e+04</td>\n",
       "      <td>0.0</td>\n",
       "      <td>1</td>\n",
       "      <td>0005</td>\n",
       "      <td>846</td>\n",
       "      <td>22201</td>\n",
       "    </tr>\n",
       "    <tr>\n",
       "      <th>3</th>\n",
       "      <td>0.000000e+00</td>\n",
       "      <td>0.0</td>\n",
       "      <td>1</td>\n",
       "      <td>0005</td>\n",
       "      <td>846</td>\n",
       "      <td>24201</td>\n",
       "    </tr>\n",
       "    <tr>\n",
       "      <th>4</th>\n",
       "      <td>0.000000e+00</td>\n",
       "      <td>0.0</td>\n",
       "      <td>1</td>\n",
       "      <td>0005</td>\n",
       "      <td>846</td>\n",
       "      <td>24204</td>\n",
       "    </tr>\n",
       "    <tr>\n",
       "      <th>...</th>\n",
       "      <td>...</td>\n",
       "      <td>...</td>\n",
       "      <td>...</td>\n",
       "      <td>...</td>\n",
       "      <td>...</td>\n",
       "      <td>...</td>\n",
       "    </tr>\n",
       "    <tr>\n",
       "      <th>61238</th>\n",
       "      <td>1.365380e+07</td>\n",
       "      <td>51200000.0</td>\n",
       "      <td>12</td>\n",
       "      <td>8948</td>\n",
       "      <td>511</td>\n",
       "      <td>55101</td>\n",
       "    </tr>\n",
       "    <tr>\n",
       "      <th>61239</th>\n",
       "      <td>1.509120e+09</td>\n",
       "      <td>196419000.0</td>\n",
       "      <td>12</td>\n",
       "      <td>8965</td>\n",
       "      <td>128</td>\n",
       "      <td>52121</td>\n",
       "    </tr>\n",
       "    <tr>\n",
       "      <th>61240</th>\n",
       "      <td>0.000000e+00</td>\n",
       "      <td>0.0</td>\n",
       "      <td>12</td>\n",
       "      <td>8969</td>\n",
       "      <td>151</td>\n",
       "      <td>52111</td>\n",
       "    </tr>\n",
       "    <tr>\n",
       "      <th>61241</th>\n",
       "      <td>0.000000e+00</td>\n",
       "      <td>0.0</td>\n",
       "      <td>12</td>\n",
       "      <td>8974</td>\n",
       "      <td>422</td>\n",
       "      <td>30101</td>\n",
       "    </tr>\n",
       "    <tr>\n",
       "      <th>61242</th>\n",
       "      <td>0.000000e+00</td>\n",
       "      <td>0.0</td>\n",
       "      <td>12</td>\n",
       "      <td>8976</td>\n",
       "      <td>572</td>\n",
       "      <td>24101</td>\n",
       "    </tr>\n",
       "  </tbody>\n",
       "</table>\n",
       "<p>61243 rows × 6 columns</p>\n",
       "</div>"
      ],
      "text/plain": [
       "       valor_orcado  valor_liquidado  TEMPO_id ACAO_cod  SUBFUNCAO_cod  \\\n",
       "0      0.000000e+00              0.0         1       -1             -1   \n",
       "1      0.000000e+00              0.0         1     0005            846   \n",
       "2      5.319970e+04              0.0         1     0005            846   \n",
       "3      0.000000e+00              0.0         1     0005            846   \n",
       "4      0.000000e+00              0.0         1     0005            846   \n",
       "...             ...              ...       ...      ...            ...   \n",
       "61238  1.365380e+07       51200000.0        12     8948            511   \n",
       "61239  1.509120e+09      196419000.0        12     8965            128   \n",
       "61240  0.000000e+00              0.0        12     8969            151   \n",
       "61241  0.000000e+00              0.0        12     8974            422   \n",
       "61242  0.000000e+00              0.0        12     8976            572   \n",
       "\n",
       "       UNIDADE_ORCAMENTARIA_cod  \n",
       "0                         20101  \n",
       "1                         20201  \n",
       "2                         22201  \n",
       "3                         24201  \n",
       "4                         24204  \n",
       "...                         ...  \n",
       "61238                     55101  \n",
       "61239                     52121  \n",
       "61240                     52111  \n",
       "61241                     30101  \n",
       "61242                     24101  \n",
       "\n",
       "[61243 rows x 6 columns]"
      ]
     },
     "execution_count": 24,
     "metadata": {},
     "output_type": "execute_result"
    }
   ],
   "source": [
    "fato"
   ]
  },
  {
   "cell_type": "code",
   "execution_count": null,
   "metadata": {},
   "outputs": [],
   "source": []
  }
 ],
 "metadata": {
  "kernelspec": {
   "display_name": "Python 3",
   "language": "python",
   "name": "python3"
  },
  "language_info": {
   "codemirror_mode": {
    "name": "ipython",
    "version": 3
   },
   "file_extension": ".py",
   "mimetype": "text/x-python",
   "name": "python",
   "nbconvert_exporter": "python",
   "pygments_lexer": "ipython3",
   "version": "3.8.2"
  }
 },
 "nbformat": 4,
 "nbformat_minor": 1
}
